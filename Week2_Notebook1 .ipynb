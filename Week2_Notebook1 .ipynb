{
 "cells": [
  {
   "cell_type": "markdown",
   "metadata": {},
   "source": [
    "#Final Capstone Project: Road Accident in India and Severity"
   ]
  },
  {
   "cell_type": "markdown",
   "metadata": {},
   "source": [
    "###Introduction"
   ]
  },
  {
   "cell_type": "markdown",
   "metadata": {},
   "source": [
    "<font size=\"3\">Road accidents are extremely common in India. Often times they lead to a loss of property and even life. \n",
    "<strong>An extimation says in 2018 alone there was 151,000 death by road accident</strong>. \n",
    "Wouldn’t it be great to be able to understand what are the most common causes, in order to prevent them from happening? With this analysis, I am attempting to understand these factors and their correlation. \n",
    "This analysis has multiple applications like for authorities  will able to enforce more safety protocols. In this instance, I am using the data from the Indian govt. data archive https://data.gov.in/ to make analysis from 2015 to 2018.</font>"
   ]
  },
  {
   "cell_type": "markdown",
   "metadata": {},
   "source": [
    "###About Data\n"
   ]
  },
  {
   "cell_type": "markdown",
   "metadata": {},
   "source": [
    "<font size=\"3\">This is an extensive data set from the Data Archive of Indian govt, with over 29 states observations collected over the last 3 years. \n",
    "To accurately build a model to prevent future accidents and/or reduce their severity, we will use the following attributes — YEAR, STATE,RANK,  WEATHER, ROADCOND, PERSONCOUNT.</font>"
   ]
  },
  {
   "cell_type": "code",
   "execution_count": null,
   "metadata": {},
   "outputs": [],
   "source": []
  }
 ],
 "metadata": {
  "kernelspec": {
   "display_name": "Python 3.6",
   "language": "python",
   "name": "python3"
  },
  "language_info": {
   "codemirror_mode": {
    "name": "ipython",
    "version": 3
   },
   "file_extension": ".py",
   "mimetype": "text/x-python",
   "name": "python",
   "nbconvert_exporter": "python",
   "pygments_lexer": "ipython3",
   "version": "3.6.9"
  }
 },
 "nbformat": 4,
 "nbformat_minor": 1
}
